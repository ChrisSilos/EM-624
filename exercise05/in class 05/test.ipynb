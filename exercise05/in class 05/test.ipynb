{
 "cells": [
  {
   "cell_type": "code",
   "execution_count": 1,
   "metadata": {},
   "outputs": [
    {
     "name": "stdout",
     "output_type": "stream",
     "text": [
      "Goodbye!\n"
     ]
    }
   ],
   "source": [
    "while True:\n",
    "    password = input('Please enter a password (enter \"done\" to exit): ') # Prompt the user to enter a password\n",
    "\n",
    "    # Create lists to check different requirements for the password\n",
    "    lowercase = ['a','b','c','d','e','f','g','h','i','j','k','l','m','n','o','p','q','r','s','t','u','v','w','x','y','z']\n",
    "    uppercase = ['A','B','C','D','E','F','G','H','I','J','K','L','M','N','O','P','Q','R','S','T','U','V','W','X','Y','Z']\n",
    "    nums = ['1','2','3','4','5','6','7','8','9']\n",
    "    specialchar = ['$','#','@']\n",
    "\n",
    "    checks_list = ['N','N','N','N']\n",
    "    for character in password:\n",
    "        if character in lowercase:\n",
    "            checks_list[0] = 'Y'\n",
    "        if character in uppercase:\n",
    "            checks_list[1] = 'Y'\n",
    "        if character in nums:\n",
    "            checks_list[2] = 'Y'\n",
    "        if character in lowercase:\n",
    "            checks_list[3] = 'Y'\n",
    "\n",
    "    \n",
    "\n",
    "\n",
    "\n",
    "    if password == 'done':\n",
    "        print('Goodbye!')\n",
    "        break\n"
   ]
  },
  {
   "cell_type": "code",
   "execution_count": null,
   "metadata": {},
   "outputs": [],
   "source": []
  }
 ],
 "metadata": {
  "interpreter": {
   "hash": "31f2aee4e71d21fbe5cf8b01ff0e069b9275f58929596ceb00d14d90e3e16cd6"
  },
  "kernelspec": {
   "display_name": "Python 3.8.9 64-bit",
   "language": "python",
   "name": "python3"
  },
  "language_info": {
   "codemirror_mode": {
    "name": "ipython",
    "version": 3
   },
   "file_extension": ".py",
   "mimetype": "text/x-python",
   "name": "python",
   "nbconvert_exporter": "python",
   "pygments_lexer": "ipython3",
   "version": "3.8.9"
  },
  "orig_nbformat": 4
 },
 "nbformat": 4,
 "nbformat_minor": 2
}
