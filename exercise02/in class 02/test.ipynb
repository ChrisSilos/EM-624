{
 "cells": [
  {
   "cell_type": "code",
   "execution_count": 2,
   "metadata": {},
   "outputs": [
    {
     "name": "stdout",
     "output_type": "stream",
     "text": [
      "\n",
      "The number must be a positive integer\n",
      "\n",
      "The number must be a positive integer\n",
      "\n",
      "The number must be a positive integer\n",
      "\n",
      "You entered an odd number! \n"
     ]
    }
   ],
   "source": [
    "while True:\n",
    "    input_num = input('\\nPlease enter a number: ')\n",
    "\n",
    "    if input_num.isdigit():\n",
    "        if int(input_num)%2 == 0:\n",
    "            print('\\nYou entered an even number! ')\n",
    "            break\n",
    "        else:\n",
    "            print('\\nYou entered an odd number! ')\n",
    "            break\n",
    "    else:\n",
    "        print('\\nThe number you enter must be a positive integer! Please try again')\n",
    "        continue"
   ]
  },
  {
   "cell_type": "code",
   "execution_count": 6,
   "metadata": {},
   "outputs": [
    {
     "name": "stdout",
     "output_type": "stream",
     "text": [
      "\n",
      "Your age must be a positive integer! Please try again\n",
      "\n",
      "Your age must be a positive integer! Please try again\n",
      "\n",
      "Chris, you will turn 100 years old in the year 2100\n",
      "The first day of your 100th year will be in 28803 days\n"
     ]
    }
   ],
   "source": [
    "while True:\n",
    "    name = input('\\nPlease enter your name: ')\n",
    "    age = input('\\n Please enter your age: ')\n",
    "\n",
    "    if age.isdigit():\n",
    "        age = int(age)\n",
    "        current_yr = 2022\n",
    "        current_day = 32\n",
    "        hundredth_yr = 100-age+current_yr\n",
    "        yrs_to_100 = hundredth_yr-current_yr\n",
    "        days_to_100th_yr = 365-32 + yrs_to_100*(365)\n",
    "\n",
    "        print()\n",
    "        print(f'{name}, you will turn 100 years old in the year {hundredth_yr}')\n",
    "        print(f'The first day of your 100th year will be in {days_to_100th_yr} days')\n",
    "        break\n",
    "    else:\n",
    "        print('\\nYour age must be a positive integer! Please try again')\n",
    "        continue"
   ]
  }
 ],
 "metadata": {
  "interpreter": {
   "hash": "31f2aee4e71d21fbe5cf8b01ff0e069b9275f58929596ceb00d14d90e3e16cd6"
  },
  "kernelspec": {
   "display_name": "Python 3.8.9 64-bit",
   "language": "python",
   "name": "python3"
  },
  "language_info": {
   "codemirror_mode": {
    "name": "ipython",
    "version": 3
   },
   "file_extension": ".py",
   "mimetype": "text/x-python",
   "name": "python",
   "nbconvert_exporter": "python",
   "pygments_lexer": "ipython3",
   "version": "3.8.9"
  },
  "orig_nbformat": 4
 },
 "nbformat": 4,
 "nbformat_minor": 2
}
