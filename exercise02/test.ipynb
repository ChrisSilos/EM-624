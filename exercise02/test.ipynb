{
 "cells": [
  {
   "cell_type": "code",
   "execution_count": 9,
   "metadata": {},
   "outputs": [],
   "source": [
    "# Author -- Chris Silos\n",
    "# EM 624\n",
    "\n",
    "# Exercise 02\n"
   ]
  },
  {
   "cell_type": "code",
   "execution_count": 15,
   "metadata": {},
   "outputs": [
    {
     "name": "stdout",
     "output_type": "stream",
     "text": [
      "There are errors in your password, including: \n",
      "below minimum length of 6 characters\n",
      "Please try again!\n",
      "\n",
      "There are errors in your password, including: \n",
      "above maximum length of 10 characters\n",
      "Please try again!\n",
      "\n",
      "There are errors in your password, including: \n",
      "invalid character (password must only contain letters and numbers)\n",
      "above maximum length of 10 characters\n",
      "Please try again!\n",
      "\n",
      "There are errors in your password, including: \n",
      "invalid character (password must only contain letters and numbers)\n",
      "above maximum length of 10 characters\n",
      "Please try again!\n",
      "\n",
      "There are errors in your password, including: \n",
      "below minimum length of 6 characters\n",
      "Please try again!\n",
      "\n",
      "There are errors in your password, including: \n",
      "invalid character (password must only contain letters and numbers)\n",
      "below minimum length of 6 characters\n",
      "Please try again!\n",
      "\n",
      "Your password has been accepted\n"
     ]
    }
   ],
   "source": [
    "while True:\n",
    "    password = input(\n",
    "        'Please enter your password: (enter \"done\" (without quotes) to quit.)')\n",
    "\n",
    "    wrong_character = False # Assume there are no invalid characters in the password\n",
    "    too_long = False # Assume the password is not too long\n",
    "    too_short = False # Assume the password is not too short\n",
    "\n",
    "    if password == ('done'):  # Quit the program if the user enters 'done'\n",
    "        print('Goodbye!')\n",
    "        break\n",
    "\n",
    "    else:\n",
    "        # Create a list of acceptable characters in the password (any number or letter)\n",
    "        acceptable_characters = ['q', 'w', 'e', 'r', 't', 'y', 'u', 'i', 'o', 'p', 'a', 's', 'd', 'f', 'g', 'h', 'j', 'k', 'l', 'z', 'x', 'c', 'v', 'b', 'n', 'm', 'Q', 'W', 'E',\n",
    "                                 'R', 'T', 'Y', 'U', 'I', 'O', 'P', 'A', 'S', 'D', 'F', 'G', 'H', 'J', 'K', 'L', 'Z', 'X', 'C', 'V', 'B', 'N', 'M', '1', '2', '3', '4', '5', '6', '7', '8', '9', '0']\n",
    "\n",
    "        for i in password:\n",
    "            if i not in acceptable_characters:\n",
    "                wrong_character = True # Check if the user entered any invalid characters\n",
    "\n",
    "        if len(password) > 10:\n",
    "            too_long = True # Check if the password is too long\n",
    "\n",
    "        elif len(password) < 6:\n",
    "            too_short = True # Check if the password is too short\n",
    "\n",
    "        if wrong_character or too_long or too_short: # Check if any of the conditions are not met\n",
    "            print(f'There are errors in your password, including: ' )\n",
    "\n",
    "            if wrong_character:\n",
    "                print('Invalid character (password must only contain letters and numbers)') # Print the appropriate error for incorrect characters\n",
    "            if too_long:\n",
    "                print('Above maximum length of 10 characters') # Print the appropriate error for a password that is too long\n",
    "            if too_short:\n",
    "                print('Below minimum length of 6 characters') # Print the appropriate error for a password that is too short\n",
    "                \n",
    "            print('Please try again!\\n')\n",
    "            continue # Return to the beginning of the loop (Re-prompt the user for their password)\n",
    "\n",
    "        else:\n",
    "            print('Your password has been accepted!')\n",
    "            break\n"
   ]
  },
  {
   "cell_type": "code",
   "execution_count": null,
   "metadata": {},
   "outputs": [],
   "source": []
  }
 ],
 "metadata": {
  "interpreter": {
   "hash": "31f2aee4e71d21fbe5cf8b01ff0e069b9275f58929596ceb00d14d90e3e16cd6"
  },
  "kernelspec": {
   "display_name": "Python 3.8.9 64-bit",
   "language": "python",
   "name": "python3"
  },
  "language_info": {
   "codemirror_mode": {
    "name": "ipython",
    "version": 3
   },
   "file_extension": ".py",
   "mimetype": "text/x-python",
   "name": "python",
   "nbconvert_exporter": "python",
   "pygments_lexer": "ipython3",
   "version": "3.10.0"
  },
  "orig_nbformat": 4
 },
 "nbformat": 4,
 "nbformat_minor": 2
}
