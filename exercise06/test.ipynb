{
 "cells": [
  {
   "cell_type": "code",
   "execution_count": 40,
   "metadata": {},
   "outputs": [],
   "source": [
    "import pandas as pd\n",
    "from bokeh.plotting import figure, show\n",
    "import numpy as np"
   ]
  },
  {
   "cell_type": "code",
   "execution_count": 95,
   "metadata": {},
   "outputs": [],
   "source": [
    "df = pd.read_csv(\"SSE_Courses.csv\") # Read file into pandas dataframe\n",
    "df = df.rename(columns={\"Unnamed: 0\":\"Course\"}) # Rename first column to 'Course'\n",
    "df = df.set_index('Course') # Set the 'Course' column as the index of the dataframe\n"
   ]
  },
  {
   "cell_type": "code",
   "execution_count": 96,
   "metadata": {},
   "outputs": [
    {
     "data": {
      "text/html": [
       "<div>\n",
       "<style scoped>\n",
       "    .dataframe tbody tr th:only-of-type {\n",
       "        vertical-align: middle;\n",
       "    }\n",
       "\n",
       "    .dataframe tbody tr th {\n",
       "        vertical-align: top;\n",
       "    }\n",
       "\n",
       "    .dataframe thead th {\n",
       "        text-align: right;\n",
       "    }\n",
       "</style>\n",
       "<table border=\"1\" class=\"dataframe\">\n",
       "  <thead>\n",
       "    <tr style=\"text-align: right;\">\n",
       "      <th></th>\n",
       "      <th>Spring '18</th>\n",
       "      <th>Fall '18</th>\n",
       "      <th>Spring '19</th>\n",
       "      <th>Fall '19</th>\n",
       "      <th>Spring '20</th>\n",
       "      <th>Fall '20</th>\n",
       "    </tr>\n",
       "    <tr>\n",
       "      <th>Course</th>\n",
       "      <th></th>\n",
       "      <th></th>\n",
       "      <th></th>\n",
       "      <th></th>\n",
       "      <th></th>\n",
       "      <th></th>\n",
       "    </tr>\n",
       "  </thead>\n",
       "  <tbody>\n",
       "    <tr>\n",
       "      <th>EM</th>\n",
       "      <td>125</td>\n",
       "      <td>187</td>\n",
       "      <td>228</td>\n",
       "      <td>172</td>\n",
       "      <td>184</td>\n",
       "      <td>197</td>\n",
       "    </tr>\n",
       "    <tr>\n",
       "      <th>ES</th>\n",
       "      <td>3</td>\n",
       "      <td>0</td>\n",
       "      <td>80</td>\n",
       "      <td>0</td>\n",
       "      <td>34</td>\n",
       "      <td>63</td>\n",
       "    </tr>\n",
       "    <tr>\n",
       "      <th>ISE</th>\n",
       "      <td>0</td>\n",
       "      <td>0</td>\n",
       "      <td>80</td>\n",
       "      <td>0</td>\n",
       "      <td>34</td>\n",
       "      <td>63</td>\n",
       "    </tr>\n",
       "    <tr>\n",
       "      <th>SSW</th>\n",
       "      <td>148</td>\n",
       "      <td>219</td>\n",
       "      <td>303</td>\n",
       "      <td>292</td>\n",
       "      <td>342</td>\n",
       "      <td>352</td>\n",
       "    </tr>\n",
       "    <tr>\n",
       "      <th>SYS</th>\n",
       "      <td>280</td>\n",
       "      <td>195</td>\n",
       "      <td>312</td>\n",
       "      <td>189</td>\n",
       "      <td>307</td>\n",
       "      <td>371</td>\n",
       "    </tr>\n",
       "  </tbody>\n",
       "</table>\n",
       "</div>"
      ],
      "text/plain": [
       "        Spring '18  Fall '18  Spring '19  Fall '19  Spring '20  Fall '20\n",
       "Course                                                                  \n",
       "EM             125       187         228       172         184       197\n",
       "ES               3         0          80         0          34        63\n",
       "ISE              0         0          80         0          34        63\n",
       "SSW            148       219         303       292         342       352\n",
       "SYS            280       195         312       189         307       371"
      ]
     },
     "execution_count": 96,
     "metadata": {},
     "output_type": "execute_result"
    }
   ],
   "source": [
    "df\n"
   ]
  },
  {
   "cell_type": "markdown",
   "metadata": {},
   "source": [
    "# EM by Semester (Line)"
   ]
  },
  {
   "cell_type": "code",
   "execution_count": 104,
   "metadata": {},
   "outputs": [],
   "source": [
    "from bokeh.models import Range1d\n",
    "\n",
    "\n",
    "# Create list for x axis ticks and y axis values\n",
    "x = [1,2,3,4,5,6]\n",
    "y = list(df.loc['EM'])\n",
    "\n",
    "# create a new plot with a title and axis labels\n",
    "p = figure(title=\"EM Students by Semester\", x_axis_label=\"Semester\", y_axis_label=\"EM Enrollments\")\n",
    "\n",
    "# add a line renderer with legend and line thickness\n",
    "p.line(x, y, legend_label=\"# of Students\", line_width=2, line_color='green')\n",
    "\n",
    "# Customize the values of the tickers on the x axis\n",
    "p.xaxis.ticker = x\n",
    "p.xaxis.major_label_overrides = {1: 'Spring 18', 2: 'Fall 18', 3: 'Spring 19', 4:'Fall 19', 5:'Spring 20', 6:'Fall 20'}\n",
    "p.xaxis.major_label_overrides = {1: 'Spring 18', 2: 'Fall 18', 3: 'Spring 19', 4:'Fall 19', 5:'Spring 20', 6:'Fall 20'}\n",
    "\n",
    "\n",
    "# Create limits for y axis\n",
    "p.y_range = Range1d(50,250)\n",
    "\n",
    "# show the results\n",
    "show(p)"
   ]
  },
  {
   "cell_type": "markdown",
   "metadata": {},
   "source": [
    "# EM vs SYS (Scatter)"
   ]
  },
  {
   "cell_type": "code",
   "execution_count": 105,
   "metadata": {},
   "outputs": [],
   "source": [
    "# Create a new plot with a title and axis labels\n",
    "p = figure(title=\"EM vs SYS Students\", x_axis_label=\"EM\", y_axis_label=\"SYS\")\n",
    "\n",
    "# Plot EM data for x values and SYS data for y values\n",
    "p.circle(list(df.loc['EM']), list(df.loc['SYS']), size=10, color=\"red\", alpha=1)\n",
    "\n",
    "# Create limits for y axis\n",
    "p.y_range = Range1d(0,500)\n",
    "\n",
    "# show the results\n",
    "show(p)"
   ]
  },
  {
   "cell_type": "markdown",
   "metadata": {},
   "source": [
    "# Average Enrollment by Program (Bar)"
   ]
  },
  {
   "cell_type": "code",
   "execution_count": 120,
   "metadata": {},
   "outputs": [],
   "source": [
    "# Calculate average enrollment for each course type\n",
    "avg_EM = np.mean(df.loc['EM'])\n",
    "avg_ES = np.mean(df.loc['ES'])\n",
    "avg_ISE = np.mean(df.loc['ISE'])\n",
    "avg_SSW = np.mean(df.loc['SSW'])\n",
    "avg_SYS = np.mean(df.loc['SYS'])\n",
    "\n",
    "# Create list of courses and average enrollment per course\n",
    "courses = list(df.index)\n",
    "counts = [avg_EM, avg_ES, avg_ISE, avg_SSW, avg_SYS]\n",
    "\n",
    "p = figure(x_range=courses, title=\"Average Enrollment by Course\",\n",
    "           toolbar_location=None, tools=\"\", y_axis_label='# of Students', x_axis_label='Course')\n",
    "\n",
    "p.vbar(x=courses, top=counts, width=0.9)\n",
    "\n",
    "p.xgrid.grid_line_color = None\n",
    "p.y_range.start = 0\n",
    "\n",
    "show(p)"
   ]
  },
  {
   "cell_type": "markdown",
   "metadata": {},
   "source": [
    "# Enrollment for Top 5 Programs of 2020 (Pie)"
   ]
  },
  {
   "cell_type": "code",
   "execution_count": 133,
   "metadata": {},
   "outputs": [],
   "source": [
    "from math import pi\n",
    "\n",
    "from bokeh.palettes import Category10\n",
    "from bokeh.transform import cumsum\n",
    "\n",
    "# Calculate total enrollment for 2020 for each of the courses\n",
    "em_2020 = df.loc['EM'][\"Spring '20\"] + df.loc['EM'][\"Fall '20\"]\n",
    "es_2020 = df.loc['ES'][\"Spring '20\"] + df.loc['ES'][\"Fall '20\"]\n",
    "ise_2020 = df.loc['ISE'][\"Spring '20\"] + df.loc['ISE'][\"Fall '20\"]\n",
    "ssw_2020 = df.loc['SSW'][\"Spring '20\"] + df.loc['SSW'][\"Fall '20\"]\n",
    "sys_2020 = df.loc['SYS'][\"Spring '20\"] + df.loc['SYS'][\"Fall '20\"]\n",
    "\n",
    "x = {\n",
    "    'EM': em_2020,\n",
    "    'ES': es_2020,\n",
    "    'ISE': ise_2020,\n",
    "    'SSW': ssw_2020,\n",
    "    'SYS': sys_2020,\n",
    "}\n",
    "\n",
    "data = pd.Series(x).reset_index(name='value').rename(columns={'index': 'Course'})\n",
    "data['angle'] = data['value']/data['value'].sum() * 2*pi\n",
    "data['color'] = Category10[len(x)]\n",
    "\n",
    "p = figure(title=\"Total 2020 Enrollment by Course\", toolbar_location=None,\n",
    "           tools=\"hover\", tooltips=\"@Course: @value\", x_range=(-0.5, 1.0))\n",
    "\n",
    "p.wedge(x=0, y=1, radius=0.4,\n",
    "        start_angle=cumsum('angle', include_zero=True), end_angle=cumsum('angle'),\n",
    "        line_color=\"white\", fill_color='color', legend_field='Course', source=data)\n",
    "\n",
    "p.axis.axis_label = None\n",
    "p.axis.visible = False\n",
    "p.grid.grid_line_color = None\n",
    "\n",
    "show(p)\n",
    "\n",
    "#https://docs.bokeh.org/en/latest/docs/gallery/pie_chart.html"
   ]
  }
 ],
 "metadata": {
  "interpreter": {
   "hash": "7cbe2c19f9c0c24baaa32e065b62fa82ceb1f2c7e2320fcbef78b78f3411137b"
  },
  "kernelspec": {
   "display_name": "Python 3.10.0 64-bit ('minimal_ds': conda)",
   "language": "python",
   "name": "python3"
  },
  "language_info": {
   "codemirror_mode": {
    "name": "ipython",
    "version": 3
   },
   "file_extension": ".py",
   "mimetype": "text/x-python",
   "name": "python",
   "nbconvert_exporter": "python",
   "pygments_lexer": "ipython3",
   "version": "3.10.0"
  },
  "orig_nbformat": 4
 },
 "nbformat": 4,
 "nbformat_minor": 2
}
