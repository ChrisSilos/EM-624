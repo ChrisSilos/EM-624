{
 "cells": [
  {
   "cell_type": "code",
   "execution_count": 8,
   "metadata": {},
   "outputs": [
    {
     "name": "stdout",
     "output_type": "stream",
     "text": [
      "The USD amount must be an integer (no letters or symbols\n",
      "The USD amount must be an integer (no letters or symbols\n",
      "The USD amount must be an integer (no letters or symbols\n",
      "The exchange rate must be an integer value (no letters or symbols)\n",
      "\n",
      "You can exchange 5 USD for 20 df\n"
     ]
    }
   ],
   "source": [
    "while True:\n",
    "    num_to_convert = input('How many US dollars would you like to exchange?')\n",
    "\n",
    "    if num_to_convert.isdigit(): # Check if the input is a numeric value\n",
    "        num_to_convert = int(num_to_convert) # Convert the input value to an integer\n",
    "\n",
    "        exchange_currency = input('Enter the name of currency you are converting dollars to?') # Prompt user for the currency\n",
    "        exchange_rate = input('What is the exchange rate? (number to multiply by)') #Prompt the user for the exchange rate\n",
    "\n",
    "        if exchange_rate.isdigit():\n",
    "            exchange_rate = int(exchange_rate) # Convert the exchange rate to an integer\n",
    "            exchanged_value = num_to_convert * exchange_rate # Calculate the exchanged value\n",
    "            print()\n",
    "            print(f'You can exchange {num_to_convert} USD for {exchanged_value} {exchange_currency}')\n",
    "            break\n",
    "        else:\n",
    "            print('The exchange rate must be an integer value (no letters or symbols)')\n",
    "            continue\n",
    "    else:\n",
    "        print('The USD amount must be an integer (no letters or symbols)')\n",
    "        continue"
   ]
  },
  {
   "cell_type": "code",
   "execution_count": null,
   "metadata": {},
   "outputs": [],
   "source": []
  }
 ],
 "metadata": {
  "interpreter": {
   "hash": "31f2aee4e71d21fbe5cf8b01ff0e069b9275f58929596ceb00d14d90e3e16cd6"
  },
  "kernelspec": {
   "display_name": "Python 3.8.9 64-bit",
   "language": "python",
   "name": "python3"
  },
  "language_info": {
   "codemirror_mode": {
    "name": "ipython",
    "version": 3
   },
   "file_extension": ".py",
   "mimetype": "text/x-python",
   "name": "python",
   "nbconvert_exporter": "python",
   "pygments_lexer": "ipython3",
   "version": "3.8.9"
  },
  "orig_nbformat": 4
 },
 "nbformat": 4,
 "nbformat_minor": 2
}
