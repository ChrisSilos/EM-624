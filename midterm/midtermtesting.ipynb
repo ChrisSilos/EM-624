{
 "cells": [
  {
   "cell_type": "markdown",
   "metadata": {},
   "source": [
    "# Code Check (Problem 6)"
   ]
  },
  {
   "cell_type": "code",
   "execution_count": 147,
   "metadata": {},
   "outputs": [
    {
     "name": "stdout",
     "output_type": "stream",
     "text": [
      "hhhheeeelllllllloooo\n"
     ]
    }
   ],
   "source": [
    "N = input(\"Enter your characters: \") # CORRECT\n",
    "L = []\n",
    "for letters in N:\n",
    "    letters.split()\n",
    "    L.append(letters*4)\n",
    "newstring = ''.join(L)\n",
    "print(newstring)"
   ]
  },
  {
   "cell_type": "markdown",
   "metadata": {},
   "source": [
    "The problem is that the code repeats the word itself 4 times instead of each letter 4 times. Furthermore, the final output is a list instead of a string. "
   ]
  },
  {
   "cell_type": "markdown",
   "metadata": {},
   "source": [
    "# Code Check (Problem 8)"
   ]
  },
  {
   "cell_type": "code",
   "execution_count": 154,
   "metadata": {},
   "outputs": [
    {
     "name": "stdout",
     "output_type": "stream",
     "text": [
      "Invalid Input. Please try again.\n",
      "Invalid Input. Please try again.\n",
      "True\n"
     ]
    }
   ],
   "source": [
    "# List of vowels to check\n",
    "vowels = ['a', 'e', 'i', 'o', 'u', 'y'] \n",
    "\n",
    "# List of acceptable characters to check\n",
    "acceptable_characters = ['q', 'w', 'e', 'r', 't', 'y', 'u', 'i', 'o', 'p', 'a',\n",
    "                         's', 'd', 'f', 'g', 'h', 'j', 'k', 'l', 'z', 'x', 'c', 'v', 'b', 'n', 'm']\n",
    "\n",
    "while True:\n",
    "    # Prompt the user for an input and convert it to lowercase\n",
    "    char = input(\n",
    "        'Please enter an alphabetical character: ').lower() \n",
    "    \n",
    "    # Exit the program if the user enters 'done'\n",
    "\n",
    "    # Check if the input is a valid input (only alphabetical letters are acceptable)\n",
    "    if char not in acceptable_characters:\n",
    "        print('Invalid Input. Please try again.')\n",
    "    else:\n",
    "        # Check if the input is a vowel\n",
    "        if char in vowels:\n",
    "            print(\"True\")\n",
    "            break\n",
    "        else:\n",
    "            print(\"False\")\n",
    "            break\n"
   ]
  },
  {
   "cell_type": "markdown",
   "metadata": {},
   "source": [
    "The problem with the code is that it returns \"True\" for every character regardless of whether it is a vowel or not. Furthermore, it did not filter out special characters ($, %, &, *, etc...)"
   ]
  },
  {
   "cell_type": "markdown",
   "metadata": {},
   "source": [
    "# Code Check (Problem 7)"
   ]
  },
  {
   "cell_type": "code",
   "execution_count": 152,
   "metadata": {},
   "outputs": [
    {
     "name": "stdout",
     "output_type": "stream",
     "text": [
      "\n",
      "The number entered plus 1 is: 6.0\n",
      "5\n",
      "5\n",
      "5\n",
      "5\n",
      "5\n"
     ]
    }
   ],
   "source": [
    "while True:\n",
    "    # Prompt the user to enter a number\n",
    "    num = input('Enter a whole number:')\n",
    "\n",
    "    # Check if the user wants to exit the program\n",
    "\n",
    "    # Check if the input is a whole number\n",
    "    if num.isdigit():\n",
    "        original_num = int(num)\n",
    "    else:\n",
    "        # If the input is not a whole number, re-prompt the user\n",
    "        print('Please try again')\n",
    "        continue\n",
    "\n",
    "    # Convert the original input to a floating point number + 1\n",
    "    new_num = 1.00 * (original_num + 1)\n",
    "    print(f'\\nThe number entered plus 1 is: {new_num}')\n",
    "\n",
    "    count = 0\n",
    "    # Print the original number 'N' times. (ie. if the original input was '6', the print '6' 6 times)\n",
    "    while count < original_num:\n",
    "        print (original_num)\n",
    "        count +=1\n",
    "    break"
   ]
  },
  {
   "cell_type": "markdown",
   "metadata": {},
   "source": [
    "# Writing Code\n",
    "## 9"
   ]
  },
  {
   "cell_type": "code",
   "execution_count": 181,
   "metadata": {},
   "outputs": [],
   "source": [
    "# Read the text file into a list\n",
    "text_file = open('ai_trends.txt','r')\n",
    "text_data = text_file.read()\n",
    "text_words = text_data.split()\n",
    "text_words_lowercase = []\n",
    "\n",
    "# Append all the words into a new list in lowercase form (becuase the stopwords are all lowercase)\n",
    "for i in text_words:\n",
    "    text_words_lowercase.append(i.lower())\n",
    "\n",
    "# Read the stopwords file into a lsit\n",
    "stopwords_file = open('stopwords_en.txt','r')\n",
    "stopwords_data = stopwords_file.read()\n",
    "stopwords = stopwords_data.split()\n",
    "\n",
    "# Create a list to hold the AI text without stopwords\n",
    "text_without_stopwords = []\n",
    "for i in text_words_lowercase:\n",
    "    # Append the list item if it is NOT in the stopwords list\n",
    "    if i not in stopwords:\n",
    "        text_without_stopwords.append(i)\n",
    "    else:\n",
    "        continue\n",
    "\n",
    "# Create an empty dictionary that holds the frequency of each word in the file\n",
    "unique_words = dict() \n",
    "  \n",
    "# Loop through each line of the file\n",
    "for word in text_without_stopwords:\n",
    "    \n",
    "    # Check if the word is already in dictionary\n",
    "    if word in unique_words:\n",
    "        # Increment count of word by 1\n",
    "        unique_words[word] = unique_words[word] + 1\n",
    "    else:\n",
    "        # Add the word to dictionary with count 1\n",
    "        unique_words[word] = 1\n",
    "\n",
    "total_characters = len(''.join(unique_words.keys())) # Calculate total number of characters from unique word list\n",
    "total_words = len(unique_words.keys()) # Calculate total number of unique words\n",
    "average_word_length = total_characters/total_words # Calculate average number of letters per unique word\n",
    "\n",
    "average_frequency = sum(unique_words.values())/len(unique_words.keys()) # Calculate the average frequency of a word in the file\n",
    "\n",
    "top_five = sorted(unique_words, key=unique_words.get, reverse=False)[:5]"
   ]
  },
  {
   "cell_type": "code",
   "execution_count": null,
   "metadata": {},
   "outputs": [],
   "source": [
    "top_five"
   ]
  },
  {
   "cell_type": "markdown",
   "metadata": {},
   "source": [
    "# 10)"
   ]
  },
  {
   "cell_type": "code",
   "execution_count": 150,
   "metadata": {},
   "outputs": [
    {
     "name": "stdout",
     "output_type": "stream",
     "text": [
      "\n",
      "The lowest mileage models are shown below\n",
      " [level_0                  26\n",
      "index                    35\n",
      "company              jaguar\n",
      "body-style            sedan\n",
      "wheel-base            102.0\n",
      "length                191.7\n",
      "engine-type            ohcv\n",
      "num-of-cylinders     twelve\n",
      "horsepower              262\n",
      "average-mileage          13\n",
      "price               36000.0\n",
      "Name: 0, dtype: object, level_0                        34\n",
      "index                          46\n",
      "company             mercedes-benz\n",
      "body-style                  sedan\n",
      "wheel-base                  120.9\n",
      "length                      208.1\n",
      "engine-type                  ohcv\n",
      "num-of-cylinders            eight\n",
      "horsepower                    184\n",
      "average-mileage                14\n",
      "price                     40960.0\n",
      "Name: 1, dtype: object]\n",
      "\n",
      "The highest mileage models are shown below\n",
      " [level_0                    13\n",
      "index                      16\n",
      "company             chevrolet\n",
      "body-style          hatchback\n",
      "wheel-base               88.4\n",
      "length                  141.1\n",
      "engine-type                 l\n",
      "num-of-cylinders        three\n",
      "horsepower                 48\n",
      "average-mileage            47\n",
      "price                  5151.0\n",
      "Name: 60, dtype: object, level_0                 40\n",
      "index                   53\n",
      "company             nissan\n",
      "body-style           sedan\n",
      "wheel-base            94.5\n",
      "length               165.3\n",
      "engine-type            ohc\n",
      "num-of-cylinders      four\n",
      "horsepower              55\n",
      "average-mileage         45\n",
      "price               7099.0\n",
      "Name: 59, dtype: object]\n"
     ]
    }
   ],
   "source": [
    "import pandas as pd\n",
    "\n",
    "df = pd.read_csv('cars.csv')\n",
    "\n",
    "average_mileage = round(df['average-mileage'].mean(),2)\n",
    "\n",
    "ordered_by_mileage = df.sort_values(by='average-mileage').reset_index()\n",
    "\n",
    "lowest_mileage = [ordered_by_mileage.loc[0], ordered_by_mileage.loc[1]]\n",
    "highest_mileage = [ordered_by_mileage.loc[60], ordered_by_mileage.loc[59]]\n",
    "\n",
    "print(f'\\nThe lowest mileage models are shown below\\n {lowest_mileage}')\n",
    "print(f'\\nThe highest mileage models are shown below\\n {highest_mileage}')"
   ]
  },
  {
   "cell_type": "code",
   "execution_count": null,
   "metadata": {},
   "outputs": [],
   "source": []
  }
 ],
 "metadata": {
  "interpreter": {
   "hash": "7cbe2c19f9c0c24baaa32e065b62fa82ceb1f2c7e2320fcbef78b78f3411137b"
  },
  "kernelspec": {
   "display_name": "Python 3.10.0 64-bit ('minimal_ds': conda)",
   "language": "python",
   "name": "python3"
  },
  "language_info": {
   "codemirror_mode": {
    "name": "ipython",
    "version": 3
   },
   "file_extension": ".py",
   "mimetype": "text/x-python",
   "name": "python",
   "nbconvert_exporter": "python",
   "pygments_lexer": "ipython3",
   "version": "3.10.0"
  },
  "orig_nbformat": 4
 },
 "nbformat": 4,
 "nbformat_minor": 2
}
