{
 "cells": [
  {
   "cell_type": "markdown",
   "metadata": {},
   "source": [
    "# Part 1"
   ]
  },
  {
   "cell_type": "code",
   "execution_count": 43,
   "metadata": {},
   "outputs": [
    {
     "name": "stdout",
     "output_type": "stream",
     "text": [
      "These are the last five lines of the file: \n",
      "\n",
      "['336', '2/29/16', '2/29/16 22:57', '2/29/16 23:03', '437', 'Macon St & Nostrand Ave', '40.68098339', '-73.95004798', '289', 'Monroe St & Classon Ave', '40.6845683', '-73.95881081', '23541', 'Subscriber', '1987', '2\\n']\n",
      "['494', '2/29/16', '2/29/16 22:59', '2/29/16 23:07', '385', 'E 55 St & 2 Ave', '40.75797322', '-73.96603308', '3140', '1 Ave & E 78 St', '40.77140426', '-73.9535166', '15185', 'Subscriber', '1985', '1\\n']\n",
      "['671', '2/29/16', '2/29/16 23:06', '2/29/16 23:17', '462', 'W 22 St & 10 Ave', '40.74691959', '-74.00451887', '380', 'W 4 St & 7 Ave S', '40.73401143', '-74.00293877', '23488', 'Subscriber', '1972', '1\\n']\n",
      "['441', '2/29/16', '2/29/16 23:10', '2/29/16 23:17', '482', 'W 15 St & 7 Ave', '40.73935542', '-73.99931783', '347', 'Greenwich St & W Houston St', '40.728846', '-74.008591', '21067', 'Subscriber', '1983', '1\\n']\n",
      "['821', '2/29/16', '2/29/16 23:15', '2/29/16 23:29', '238', 'Bank St & Washington St', '40.7361967', '-74.00859207', '2008', 'Little West St & 1 Pl', '40.70569254', '-74.01677685', '23821', 'Subscriber', '1991', '1']\n",
      "\n",
      "The file has 21350 lines. Of those, 1057 have usertype as \"Customer\", and 20293 have usertype as \"Subscriber\". \"Customer\" is 4.95% of the total.\n"
     ]
    }
   ],
   "source": [
    "table = [] # Create a list to hold each line in the file\n",
    "\n",
    "# Create variables to count the numbers of lines, customers, and subscribers in the file\n",
    "num_customers_janfeb = 0 \n",
    "num_subscribers_janfeb = 0 \n",
    "num_lines_janfeb = -1 # This is negative to account for the header (does not count as a line)\n",
    "\n",
    "with open ('NYC-CitiBike-Jan_Feb2016.csv') as jan_feb: # Open the file\n",
    "    line = jan_feb.readline()\n",
    "\n",
    "    while line:\n",
    "        line = line.split(',') # Convert each line into a list by splitting at commas (because it is a comma separated file)\n",
    "\n",
    "        # The third to last value in each line determines if it is a customer or a subscriber\n",
    "\n",
    "        if line[-3] == 'Customer': # If the value is 'Customer', increase the count of customers by one\n",
    "            num_customers_janfeb += 1\n",
    "        elif line[-3] == 'Subscriber': # If the value is 'Subscriber', increase the count of subscribers by one\n",
    "            num_subscribers_janfeb += 1\n",
    "\n",
    "        table.append(line) # Append each line to table\n",
    "        num_lines_janfeb += 1 # Increase the count of lines by one\n",
    "        line = jan_feb.readline() # Move onto the next line\n",
    "\n",
    "    print('\\nThese are the last five lines of the file: \\n')\n",
    "    for line in table[-5:]:\n",
    "        print(line)\n",
    "\n",
    "    customer_pct_janfeb = round(num_customers_janfeb/num_lines_janfeb*100,2) # Calculate the percentage of customers\n",
    "\n",
    "    # Print summary information for the file\n",
    "    print(f'\\nThe file has {num_lines_janfeb} lines. Of those, {num_customers_janfeb} have usertype as \"Customer\", and {num_subscribers_janfeb} have usertype as \"Subscriber\". \"Customer\" is {customer_pct_janfeb}% of the total.')\n"
   ]
  },
  {
   "cell_type": "markdown",
   "metadata": {},
   "source": [
    "# Part 2"
   ]
  },
  {
   "cell_type": "code",
   "execution_count": 45,
   "metadata": {},
   "outputs": [
    {
     "name": "stdout",
     "output_type": "stream",
     "text": [
      "These are the first five lines of the file (not including column titles): \n",
      "\n",
      "['128', '4/1/16', '4/1/16 0:00', '4/1/16 0:02', '3064', 'Myrtle Ave & Lewis Ave', '40.69681963', '-73.93756926', '3059', 'Pulaski St & Marcus Garvey Blvd', '40.6933982', '-73.939877', '17430', 'Subscriber', '1986', '1\\n']\n",
      "['1322', '4/1/16', '4/1/16 0:15', '4/1/16 0:37', '280', 'E 10 St & 5 Ave', '40.73331967', '-73.99510132', '3142', '1 Ave & E 62 St', '40.7612274', '-73.96094022', '16592', 'Subscriber', '1950', '1\\n']\n",
      "['288', '4/1/16', '4/1/16 0:31', '4/1/16 0:36', '346', 'Bank St & Hudson St', '40.73652889', '-74.00618026', '470', 'W 20 St & 8 Ave', '40.74345335', '-74.00004031', '14707', 'Customer', '', '0\\n']\n",
      "['1797', '4/1/16', '4/1/16 0:42', '4/1/16 1:12', '532', 'S 5 Pl & S 4 St', '40.710451', '-73.960876', '161', 'LaGuardia Pl & W 3 St', '40.72917025', '-73.99810231', '23320', 'Subscriber', '1979', '2\\n']\n",
      "['316', '4/1/16', '4/1/16 0:43', '4/1/16 0:48', '304', 'Broadway & Battery Pl', '40.70463334', '-74.01361706', '3002', 'South End Ave & Liberty St', '40.711512', '-74.015756', '15087', 'Subscriber', '1986', '1\\n']\n",
      "\n",
      "The file has 44615 lines. Of those, 5841 have usertype as \"Customer\", and 38774 have usertype as \"Subscriber\".\n",
      "\n",
      "The first file is larger than the second one\n",
      "The first file has relatively less customers than the second one\n"
     ]
    }
   ],
   "source": [
    "table = [] # Create a list to hold each line in the file\n",
    "\n",
    "# Create variables to count the numbers of lines, customers, and subscribers in the file\n",
    "num_customers_apr_may = 0 \n",
    "num_subscribers_apr_may = 0 \n",
    "num_lines_apr_may = -1 # This value is negative to account for the header (does not count as a line)\n",
    "\n",
    "with open ('NYC-CitiBike-Apr_May2016.csv') as apr_may: # Open the file\n",
    "    line = apr_may.readline()\n",
    "\n",
    "    while line:\n",
    "        line = line.split(',') # Convert each line into a list by splitting at commas (because it is a comma separated file)\n",
    "\n",
    "        # The third to last value in each line determines if it is a customer or a subscriber\n",
    "\n",
    "        if line[-3] == 'Customer': # If the value is 'Customer', increase the count of customers by one\n",
    "            num_customers_apr_may += 1\n",
    "        elif line[-3] == 'Subscriber': # If the value is 'Subscriber', increase the count of subscribers by one\n",
    "            num_subscribers_apr_may += 1\n",
    "\n",
    "        table.append(line) # Append each line to table\n",
    "        num_lines_apr_may += 1 # Increase the count of lines by one\n",
    "        line = apr_may.readline() # Move onto the next line\n",
    "\n",
    "    print('These are the first five lines of the file (not including column titles): \\n')\n",
    "    for line in table[1:6]:\n",
    "        print(line)\n",
    "    \n",
    "    customer_pct_apr_may = round(num_customers_apr_may/num_lines_apr_may*100,2) # Calculate the percentage of customers\n",
    "\n",
    "    # Print summary information for the file\n",
    "    print(f'\\nThe file has {num_lines_apr_may} lines. Of those, {num_customers_apr_may} have usertype as \"Customer\", and {num_subscribers_apr_may} have usertype as \"Subscriber\".\\n')\n",
    "\n",
    "    if num_lines_janfeb > num_customers_apr_may:\n",
    "        print('The first file is larger than the second one')\n",
    "    else:\n",
    "        print('The first file is smaller than the second one')\n",
    "\n",
    "    if customer_pct_janfeb > customer_pct_apr_may:\n",
    "        print('The first file has relatively more customers than the second one')\n",
    "    else:\n",
    "        print('The first file has relatively less customers than the second one')\n"
   ]
  },
  {
   "cell_type": "code",
   "execution_count": null,
   "metadata": {},
   "outputs": [],
   "source": []
  }
 ],
 "metadata": {
  "interpreter": {
   "hash": "31f2aee4e71d21fbe5cf8b01ff0e069b9275f58929596ceb00d14d90e3e16cd6"
  },
  "kernelspec": {
   "display_name": "Python 3.8.9 64-bit",
   "language": "python",
   "name": "python3"
  },
  "language_info": {
   "codemirror_mode": {
    "name": "ipython",
    "version": 3
   },
   "file_extension": ".py",
   "mimetype": "text/x-python",
   "name": "python",
   "nbconvert_exporter": "python",
   "pygments_lexer": "ipython3",
   "version": "3.8.9"
  },
  "orig_nbformat": 4
 },
 "nbformat": 4,
 "nbformat_minor": 2
}
